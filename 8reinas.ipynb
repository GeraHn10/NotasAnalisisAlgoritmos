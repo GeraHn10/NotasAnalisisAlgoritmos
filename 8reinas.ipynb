{
  "nbformat": 4,
  "nbformat_minor": 0,
  "metadata": {
    "colab": {
      "name": "8reinas.ipynb",
      "provenance": [],
      "authorship_tag": "ABX9TyNLBvfThKlWm40U8fqW5qXS",
      "include_colab_link": true
    },
    "kernelspec": {
      "name": "python3",
      "display_name": "Python 3"
    }
  },
  "cells": [
    {
      "cell_type": "markdown",
      "metadata": {
        "id": "view-in-github",
        "colab_type": "text"
      },
      "source": [
        "<a href=\"https://colab.research.google.com/github/GeraHn10/NotasAnalisisAlgoritmos/blob/main/8reinas.ipynb\" target=\"_parent\"><img src=\"https://colab.research.google.com/assets/colab-badge.svg\" alt=\"Open In Colab\"/></a>"
      ]
    },
    {
      "cell_type": "code",
      "metadata": {
        "colab": {
          "base_uri": "https://localhost:8080/"
        },
        "id": "m_nLHu53N7iz",
        "outputId": "cfed9e88-f347-4f1a-a6b5-ccb55c17a85b"
      },
      "source": [
        "def free(row, col):\n",
        "        \n",
        "        for i in range(8):\n",
        "            if tablero[row][i] == 'R' or tablero[i][col] == 'R':\n",
        "                return False\n",
        "\n",
        "        if row <= col:\n",
        "            c = col - row\n",
        "            r = 0\n",
        "        else:\n",
        "            r = row - col\n",
        "            c = 0\n",
        "        while c < 8 and r < 8:\n",
        "            if tablero[r][c] == 'R':\n",
        "                return False\n",
        "            r += 1\n",
        "            c += 1\n",
        "\n",
        "        if row <= col:\n",
        "            r = 0\n",
        "            c = col + row\n",
        "            if c > 7:\n",
        "                r = c - 7\n",
        "                c = 7\n",
        "        else:\n",
        "            c = 7\n",
        "            r = row - (7 - col)\n",
        "\n",
        "        while c >= 0 and r < 8:\n",
        "            if tablero[r][c] == 'R':\n",
        "                return False\n",
        "            r += 1\n",
        "            c -= 1\n",
        "\n",
        "        return True\n",
        "\n",
        "def agregar_reina(n):\n",
        "      \n",
        "        if n < 1:\n",
        "            return True\n",
        "\n",
        "        for idx_row in range(8):\n",
        "            for idx_col in range(8):\n",
        "                if free(idx_row, idx_col):\n",
        "                    tablero[idx_row][idx_col] = 'R'\n",
        "                    if agregar_reina(n-1):\n",
        "                        return True\n",
        "                    else:\n",
        "                        tablero[idx_row][idx_col] = '_'\n",
        "\n",
        "        return False\n",
        "\n",
        "\n",
        "tablero = []\n",
        "for i in range(8):\n",
        "    tablero.append(['_'] * 8)\n",
        "agregar_reina(8)\n",
        "for row in tablero:\n",
        "    print(*row)"
      ],
      "execution_count": 1,
      "outputs": [
        {
          "output_type": "stream",
          "text": [
            "R _ _ _ _ _ _ _\n",
            "_ _ _ _ R _ _ _\n",
            "_ _ _ _ _ _ _ R\n",
            "_ _ _ _ _ R _ _\n",
            "_ _ R _ _ _ _ _\n",
            "_ _ _ _ _ _ R _\n",
            "_ R _ _ _ _ _ _\n",
            "_ _ _ R _ _ _ _\n"
          ],
          "name": "stdout"
        }
      ]
    }
  ]
}