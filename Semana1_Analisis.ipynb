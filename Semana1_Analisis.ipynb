{
  "nbformat": 4,
  "nbformat_minor": 0,
  "metadata": {
    "colab": {
      "name": "Semana1 Analisis.ipynb",
      "provenance": [],
      "authorship_tag": "ABX9TyOzP5fhYk4svc0Yo3DzlOX9",
      "include_colab_link": true
    },
    "kernelspec": {
      "name": "python3",
      "display_name": "Python 3"
    }
  },
  "cells": [
    {
      "cell_type": "markdown",
      "metadata": {
        "id": "view-in-github",
        "colab_type": "text"
      },
      "source": [
        "<a href=\"https://colab.research.google.com/github/GeraHn10/NotasAnalisisAlgoritmos/blob/main/Semana1_Analisis.ipynb\" target=\"_parent\"><img src=\"https://colab.research.google.com/assets/colab-badge.svg\" alt=\"Open In Colab\"/></a>"
      ]
    },
    {
      "cell_type": "markdown",
      "metadata": {
        "id": "QrPP3IV-fwwC"
      },
      "source": [
        "# Analisis de algoritmos"
      ]
    },
    {
      "cell_type": "code",
      "metadata": {
        "id": "fj_3lDMMfsHT",
        "outputId": "0dfdbdcb-cf7b-4c5e-d3ca-2a9f066e69a0",
        "colab": {
          "base_uri": "https://localhost:8080/",
          "height": 34
        }
      },
      "source": [
        "def fib(n):\n",
        "    a, b = 0,1\n",
        "    while a < n:\n",
        "        print(a, end=' ')\n",
        "        a, b = b, a+b\n",
        "    print()\n",
        "fib(1000)"
      ],
      "execution_count": 1,
      "outputs": [
        {
          "output_type": "stream",
          "text": [
            "0 1 1 2 3 5 8 13 21 34 55 89 144 233 377 610 987 \n"
          ],
          "name": "stdout"
        }
      ]
    },
    {
      "cell_type": "markdown",
      "metadata": {
        "id": "avU5EEPvf3PQ"
      },
      "source": [
        ""
      ]
    }
  ]
}