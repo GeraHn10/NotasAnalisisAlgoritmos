{
  "nbformat": 4,
  "nbformat_minor": 0,
  "metadata": {
    "colab": {
      "name": "Semana1 Analisis.ipynb",
      "provenance": [],
      "authorship_tag": "ABX9TyOteytKnHmiap0yGjELPfw9",
      "include_colab_link": true
    },
    "kernelspec": {
      "name": "python3",
      "display_name": "Python 3"
    }
  },
  "cells": [
    {
      "cell_type": "markdown",
      "metadata": {
        "id": "view-in-github",
        "colab_type": "text"
      },
      "source": [
        "<a href=\"https://colab.research.google.com/github/GeraHn10/NotasAnalisisAlgoritmos/blob/main/Semana1_Analisis.ipynb\" target=\"_parent\"><img src=\"https://colab.research.google.com/assets/colab-badge.svg\" alt=\"Open In Colab\"/></a>"
      ]
    },
    {
      "cell_type": "markdown",
      "metadata": {
        "id": "QrPP3IV-fwwC"
      },
      "source": [
        "# Analisis de algoritmos"
      ]
    },
    {
      "cell_type": "code",
      "metadata": {
        "id": "fj_3lDMMfsHT",
        "colab": {
          "base_uri": "https://localhost:8080/",
          "height": 34
        },
        "outputId": "0dfdbdcb-cf7b-4c5e-d3ca-2a9f066e69a0"
      },
      "source": [
        "def fib(n):\n",
        "    a, b = 0,1\n",
        "    while a < n:\n",
        "        print(a, end=' ')\n",
        "        a, b = b, a+b\n",
        "    print()\n",
        "fib(1000)"
      ],
      "execution_count": null,
      "outputs": [
        {
          "output_type": "stream",
          "text": [
            "0 1 1 2 3 5 8 13 21 34 55 89 144 233 377 610 987 \n"
          ],
          "name": "stdout"
        }
      ]
    },
    {
      "cell_type": "markdown",
      "metadata": {
        "id": "avU5EEPvf3PQ"
      },
      "source": [
        ""
      ]
    },
    {
      "cell_type": "code",
      "metadata": {
        "id": "TqVEoDiWTAex"
      },
      "source": [
        "\n",
        "#  Insertion Sort Algorithm\n",
        "\n",
        "import random\n",
        "\n",
        "def bubbleSort(num):\n",
        "    \n",
        "    randomList = []\n",
        "    #Rango de numeros de 1-N\n",
        "    for i in range(1,num):\n",
        "        #Numeros que genera\n",
        "        n = random.randint(1,1000)\n",
        "        randomList.append(n)\n",
        "\n",
        "    print(\"Numeros generados: \\n\",randomList)\n",
        "\n",
        "    n = len(randomList)\n",
        "    for i in range(n-1):\n",
        "      for j in range(i, 0, -1):\n",
        "          if (randomList[j] < randomList[j-1]):\n",
        "            randomList[j], randomList[j-1] = randomList[j-1], randomList[j]\n",
        "          else:\n",
        "            break\n",
        "\n",
        "    print(\"Lista ordenada: \\n\", randomList)\n",
        "    pass\n",
        "\n",
        "def main():\n",
        "\n",
        "    print(\"Bienvenido al algoritmo Bubble Sort\")\n",
        "    rangoMax = int(input(\"Ingresa el rango maximo de numeros: \"))\n",
        "    \n",
        "    bubbleSort(rangoMax)\n",
        "\n",
        "    pass\n",
        "\n",
        "main()"
      ],
      "execution_count": null,
      "outputs": []
    },
    {
      "cell_type": "code",
      "metadata": {
        "id": "vIa6i9CBTH3M"
      },
      "source": [
        "print(\"Bienvenido al algoritmo Fibonacci Iterativo\" )\n",
        "n = int(input(\"Ingrese numero: \"))\n",
        "\n",
        "def fib(n):\n",
        "  sucesion = []\n",
        "  if n == 0:\n",
        "    sucesion.append(0)\n",
        "  elif n == 1:\n",
        "    sucesion.append(1)\n",
        "  else:\n",
        "    res1 = fib(n-1)\n",
        "    res2 = fib(n-2)\n",
        "    res3 = res1+ res2\n",
        "    sucesion.append(res3)\n",
        "    print(sucesion)\n",
        "\n",
        "fib(n)"
      ],
      "execution_count": null,
      "outputs": []
    }
  ]
}